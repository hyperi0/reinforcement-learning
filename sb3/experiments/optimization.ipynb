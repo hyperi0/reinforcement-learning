{
 "cells": [
  {
   "cell_type": "code",
   "execution_count": 16,
   "metadata": {},
   "outputs": [],
   "source": [
    "import optuna\n",
    "from stable_baselines3 import PPO\n",
    "from stable_baselines3.common.evaluation import evaluate_policy\n",
    "import gymnasium as gym"
   ]
  },
  {
   "cell_type": "code",
   "execution_count": 17,
   "metadata": {},
   "outputs": [],
   "source": [
    "def policy_reward(model, n_eps=10):\n",
    "    env = gym.make(\"CartPole-v1\")\n",
    "    reward, stdev = evaluate_policy(model, env, n_eval_episodes=n_eps, render=False)\n",
    "    return reward"
   ]
  },
  {
   "cell_type": "code",
   "execution_count": 18,
   "metadata": {},
   "outputs": [],
   "source": [
    "def train_model(n_steps, policy_kwargs):\n",
    "    model = PPO(\"MlpPolicy\", \"CartPole-v1\", verbose=0, policy_kwargs=policy_kwargs)\n",
    "    model.learn(n_steps)\n",
    "    return model"
   ]
  },
  {
   "cell_type": "code",
   "execution_count": 26,
   "metadata": {},
   "outputs": [],
   "source": [
    "def objective(trial):\n",
    "    n_layers = trial.suggest_int('n_layers', 1, 3)\n",
    "    policy_kwargs = dict(\n",
    "        net_arch=[trial.suggest_int(f'layer_size_{i}', 16, 64) for i in range(n_layers)]\n",
    "    )\n",
    "    model = train_model(1000, policy_kwargs)\n",
    "    return policy_reward(model, n_eps=10)"
   ]
  },
  {
   "cell_type": "code",
   "execution_count": 27,
   "metadata": {},
   "outputs": [
    {
     "name": "stderr",
     "output_type": "stream",
     "text": [
      "[I 2024-04-10 13:58:49,410] A new study created in memory with name: no-name-80517e7b-671b-4e20-8836-dcff4a279999\n",
      "/Users/ben/.pyenv/versions/3.9.18/envs/sb3/lib/python3.9/site-packages/stable_baselines3/common/evaluation.py:67: UserWarning: Evaluation environment is not wrapped with a ``Monitor`` wrapper. This may result in reporting modified episode lengths and rewards, if other wrappers happen to modify these. Consider wrapping environment first with ``Monitor`` wrapper.\n",
      "  warnings.warn(\n",
      "[I 2024-04-10 13:58:50,198] Trial 0 finished with value: 194.5 and parameters: {'n_layers': 1, 'layer_size_0': 43}. Best is trial 0 with value: 194.5.\n",
      "[I 2024-04-10 13:58:51,153] Trial 1 finished with value: 147.2 and parameters: {'n_layers': 3, 'layer_size_0': 16, 'layer_size_1': 59, 'layer_size_2': 42}. Best is trial 0 with value: 194.5.\n",
      "[I 2024-04-10 13:58:52,192] Trial 2 finished with value: 218.6 and parameters: {'n_layers': 3, 'layer_size_0': 52, 'layer_size_1': 41, 'layer_size_2': 48}. Best is trial 2 with value: 218.6.\n",
      "[I 2024-04-10 13:58:52,870] Trial 3 finished with value: 171.3 and parameters: {'n_layers': 1, 'layer_size_0': 32}. Best is trial 2 with value: 218.6.\n",
      "[I 2024-04-10 13:58:53,610] Trial 4 finished with value: 64.6 and parameters: {'n_layers': 2, 'layer_size_0': 64, 'layer_size_1': 44}. Best is trial 2 with value: 218.6.\n",
      "[I 2024-04-10 13:58:54,450] Trial 5 finished with value: 243.7 and parameters: {'n_layers': 1, 'layer_size_0': 44}. Best is trial 5 with value: 243.7.\n",
      "[I 2024-04-10 13:58:55,336] Trial 6 finished with value: 145.6 and parameters: {'n_layers': 2, 'layer_size_0': 57, 'layer_size_1': 39}. Best is trial 5 with value: 243.7.\n",
      "[I 2024-04-10 13:58:55,945] Trial 7 finished with value: 67.2 and parameters: {'n_layers': 1, 'layer_size_0': 26}. Best is trial 5 with value: 243.7.\n",
      "[I 2024-04-10 13:58:57,134] Trial 8 finished with value: 241.7 and parameters: {'n_layers': 3, 'layer_size_0': 58, 'layer_size_1': 52, 'layer_size_2': 22}. Best is trial 5 with value: 243.7.\n",
      "[I 2024-04-10 13:58:58,062] Trial 9 finished with value: 111.9 and parameters: {'n_layers': 3, 'layer_size_0': 58, 'layer_size_1': 23, 'layer_size_2': 40}. Best is trial 5 with value: 243.7.\n"
     ]
    }
   ],
   "source": [
    "study = optuna.create_study(direction=\"maximize\")\n",
    "study.optimize(objective, n_trials=10)"
   ]
  },
  {
   "cell_type": "code",
   "execution_count": 28,
   "metadata": {},
   "outputs": [
    {
     "data": {
      "text/plain": [
       "{'n_layers': 1, 'layer_size_0': 44}"
      ]
     },
     "execution_count": 28,
     "metadata": {},
     "output_type": "execute_result"
    }
   ],
   "source": [
    "study.best_params"
   ]
  },
  {
   "cell_type": "code",
   "execution_count": null,
   "metadata": {},
   "outputs": [],
   "source": []
  }
 ],
 "metadata": {
  "kernelspec": {
   "display_name": "sb3",
   "language": "python",
   "name": "python3"
  },
  "language_info": {
   "codemirror_mode": {
    "name": "ipython",
    "version": 3
   },
   "file_extension": ".py",
   "mimetype": "text/x-python",
   "name": "python",
   "nbconvert_exporter": "python",
   "pygments_lexer": "ipython3",
   "version": "3.9.18"
  }
 },
 "nbformat": 4,
 "nbformat_minor": 2
}
