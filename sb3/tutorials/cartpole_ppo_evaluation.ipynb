{
 "cells": [
  {
   "cell_type": "code",
   "execution_count": 8,
   "metadata": {},
   "outputs": [],
   "source": [
    "import gymnasium as gym\n",
    "import numpy as np\n",
    "\n",
    "from stable_baselines3 import PPO\n",
    "from stable_baselines3.common.base_class import BaseAlgorithm\n",
    "from stable_baselines3.ppo.policies import MlpPolicy"
   ]
  },
  {
   "attachments": {},
   "cell_type": "markdown",
   "metadata": {},
   "source": [
    "### Define custom evaluation function"
   ]
  },
  {
   "cell_type": "code",
   "execution_count": 4,
   "metadata": {},
   "outputs": [],
   "source": [
    "def evaluate(\n",
    "    model: BaseAlgorithm,\n",
    "    num_episodes: int = 100,\n",
    "    deterministic: bool = True,\n",
    ") -> float:\n",
    "    \"\"\"\n",
    "    Evaluate an RL agent averaged across 'num_episodes'.\n",
    "\n",
    "    :param model: the RL agent\n",
    "    :param env: the gymnasium Environment\n",
    "    :param num_episodes: number of episodes to evaluate\n",
    "    :param deterministic: choice of deterministic or stochastic actions\n",
    "    :return: mean reward over 'num_episodes'\n",
    "    \"\"\"\n",
    "\n",
    "    vec_env = model.get_env()\n",
    "    obs = vec_env.reset()\n",
    "    all_episode_rewards = []\n",
    "\n",
    "    for _ in range(num_episodes):\n",
    "        episode_rewards = []\n",
    "        done = False\n",
    "\n",
    "        while not done:\n",
    "            action, _states = model.predict(obs, deterministic=deterministic)\n",
    "            obs, reward, done, _info = vec_env.step(action)\n",
    "            episode_rewards.append(reward)\n",
    "\n",
    "        all_episode_rewards.append(sum(episode_rewards))\n",
    "\n",
    "    mean_episode_reward = np.mean(all_episode_rewards)\n",
    "    print(f\"Mean reward: {mean_episode_reward:.2f} - Num episodes: {num_episodes}\")\n",
    "\n",
    "    return mean_episode_reward"
   ]
  },
  {
   "attachments": {},
   "cell_type": "markdown",
   "metadata": {},
   "source": [
    "### Evaluate untrained agent"
   ]
  },
  {
   "cell_type": "code",
   "execution_count": 9,
   "metadata": {},
   "outputs": [],
   "source": [
    "# setup env and initialize untrained agent\n",
    "env = gym.make(\"CartPole-v1\")\n",
    "model = PPO(MlpPolicy, env, verbose=0)"
   ]
  },
  {
   "cell_type": "code",
   "execution_count": 10,
   "metadata": {},
   "outputs": [
    {
     "name": "stdout",
     "output_type": "stream",
     "text": [
      "Mean reward: 9.02 - Num episodes: 100\n"
     ]
    }
   ],
   "source": [
    "# evaluate untrained agent with defined evoluation function\n",
    "mean_reward_untrained = evaluate(model)"
   ]
  },
  {
   "cell_type": "code",
   "execution_count": 11,
   "metadata": {},
   "outputs": [],
   "source": [
    "# compare with built-in sb3 helper\n",
    "from stable_baselines3.common.evaluation import evaluate_policy"
   ]
  },
  {
   "cell_type": "code",
   "execution_count": 13,
   "metadata": {},
   "outputs": [
    {
     "name": "stdout",
     "output_type": "stream",
     "text": [
      "Mean reward: 9.05, std reward: 0.70\n"
     ]
    }
   ],
   "source": [
    "mean_reward, std_reward = evaluate_policy(model, env, n_eval_episodes=100, warn=False)\n",
    "print(f\"Mean reward: {mean_reward:.2f}, std reward: {std_reward:.2f}\")"
   ]
  },
  {
   "attachments": {},
   "cell_type": "markdown",
   "metadata": {},
   "source": [
    "### Train and evaluate agent"
   ]
  },
  {
   "cell_type": "code",
   "execution_count": 14,
   "metadata": {},
   "outputs": [
    {
     "data": {
      "text/plain": [
       "<stable_baselines3.ppo.ppo.PPO at 0x15afaefd0>"
      ]
     },
     "execution_count": 14,
     "metadata": {},
     "output_type": "execute_result"
    }
   ],
   "source": [
    "model.learn(total_timesteps=10_000)"
   ]
  },
  {
   "cell_type": "code",
   "execution_count": 16,
   "metadata": {},
   "outputs": [
    {
     "name": "stdout",
     "output_type": "stream",
     "text": [
      "Mean reward: 399.94, std reward: 111.18\n"
     ]
    }
   ],
   "source": [
    "mean_reward, std_reward = evaluate_policy(model, env, n_eval_episodes=100, warn=False)\n",
    "\n",
    "print(f\"Mean reward: {mean_reward:.2f}, std reward: {std_reward:.2f}\")"
   ]
  },
  {
   "attachments": {},
   "cell_type": "markdown",
   "metadata": {},
   "source": [
    "### Prepare video recording"
   ]
  },
  {
   "cell_type": "code",
   "execution_count": 17,
   "metadata": {},
   "outputs": [
    {
     "name": "stderr",
     "output_type": "stream",
     "text": [
      "sh: Xvfb: command not found\n"
     ]
    }
   ],
   "source": [
    "# setup fake display\n",
    "import os \n",
    "os.system(\"Xvfb :1 -screen 0 1024x768x24 &\")\n",
    "os.environ['DISPLAY'] = ':1'"
   ]
  },
  {
   "cell_type": "code",
   "execution_count": 23,
   "metadata": {},
   "outputs": [],
   "source": [
    "import base64\n",
    "from pathlib import Path\n",
    "\n",
    "from IPython import display as ipythondisplay\n",
    "\n",
    "\n",
    "def show_videos(video_path=\"\", prefix=\"\"):\n",
    "    \"\"\"\n",
    "    Taken from https://github.com/eleurent/highway-env\n",
    "\n",
    "    :param video_path: (str) Path to the folder containing videos\n",
    "    :param prefix: (str) Filter the video, showing only the only starting with this prefix\n",
    "    \"\"\"\n",
    "    html = []\n",
    "    for mp4 in Path(video_path).glob(\"{}*.mp4\".format(prefix)):\n",
    "        video_b64 = base64.b64encode(mp4.read_bytes())\n",
    "        html.append(\n",
    "            \"\"\"<video alt=\"{}\" autoplay \n",
    "                    loop controls style=\"height: 400px;\">\n",
    "                    <source src=\"data:video/mp4;base64,{}\" type=\"video/mp4\" />\n",
    "                </video>\"\"\".format(\n",
    "                mp4, video_b64.decode(\"ascii\")\n",
    "            )\n",
    "        )\n",
    "    ipythondisplay.display(ipythondisplay.HTML(data=\"<br>\".join(html)))"
   ]
  },
  {
   "cell_type": "code",
   "execution_count": 28,
   "metadata": {},
   "outputs": [],
   "source": [
    "from stable_baselines3.common.vec_env import VecVideoRecorder, DummyVecEnv\n",
    "\n",
    "\n",
    "def record_video(env_id, model, video_length=500, prefix=\"\", video_folder=\"videos/\"):\n",
    "    \"\"\"\n",
    "    :param env_id: (str)\n",
    "    :param model: (RL model)\n",
    "    :param video_length: (int)\n",
    "    :param prefix: (str)\n",
    "    :param video_folder: (str)\n",
    "    \"\"\"\n",
    "    eval_env = DummyVecEnv([lambda: gym.make(env_id, render_mode=\"rgb_array\")])\n",
    "    # Start the video at step=0 and record 500 steps\n",
    "    eval_env = VecVideoRecorder(\n",
    "        eval_env,\n",
    "        video_folder=video_folder,\n",
    "        record_video_trigger=lambda step: step == 0,\n",
    "        video_length=video_length,\n",
    "        name_prefix=prefix,\n",
    "    )\n"
   ]
  },
  {
   "cell_type": "code",
   "execution_count": 33,
   "metadata": {},
   "outputs": [],
   "source": [
    "eval_env = DummyVecEnv([lambda: gym.make(\"CartPole-v1\", render_mode=\"rgb_array\")])\n",
    "obs = eval_env.reset()\n",
    "action, _  = model.predict(obs)\n",
    "obs, _, _, _ = eval_env.step(action)"
   ]
  },
  {
   "attachments": {},
   "cell_type": "markdown",
   "metadata": {},
   "source": [
    "### Visualize trained agent"
   ]
  },
  {
   "cell_type": "code",
   "execution_count": 26,
   "metadata": {},
   "outputs": [
    {
     "name": "stdout",
     "output_type": "stream",
     "text": [
      "Saving video to /Users/ben/code/sb3/videos/ppo-cartpole-step-0-to-step-500.mp4\n",
      "Moviepy - Building video /Users/ben/code/sb3/videos/ppo-cartpole-step-0-to-step-500.mp4.\n",
      "Moviepy - Writing video /Users/ben/code/sb3/videos/ppo-cartpole-step-0-to-step-500.mp4\n",
      "\n"
     ]
    },
    {
     "ename": "TypeError",
     "evalue": "must be real number, not NoneType",
     "output_type": "error",
     "traceback": [
      "\u001b[0;31m---------------------------------------------------------------------------\u001b[0m",
      "\u001b[0;31mTypeError\u001b[0m                                 Traceback (most recent call last)",
      "Cell \u001b[0;32mIn[26], line 1\u001b[0m\n\u001b[0;32m----> 1\u001b[0m record_video(\u001b[39m\"\u001b[39;49m\u001b[39mCartPole-v1\u001b[39;49m\u001b[39m\"\u001b[39;49m, model, video_length\u001b[39m=\u001b[39;49m\u001b[39m500\u001b[39;49m, prefix\u001b[39m=\u001b[39;49m\u001b[39m\"\u001b[39;49m\u001b[39mppo-cartpole\u001b[39;49m\u001b[39m\"\u001b[39;49m)\n",
      "Cell \u001b[0;32mIn[24], line 25\u001b[0m, in \u001b[0;36mrecord_video\u001b[0;34m(env_id, model, video_length, prefix, video_folder)\u001b[0m\n\u001b[1;32m     23\u001b[0m \u001b[39mfor\u001b[39;00m _ \u001b[39min\u001b[39;00m \u001b[39mrange\u001b[39m(video_length):\n\u001b[1;32m     24\u001b[0m     action, _ \u001b[39m=\u001b[39m model\u001b[39m.\u001b[39mpredict(obs)\n\u001b[0;32m---> 25\u001b[0m     obs, _, _, _ \u001b[39m=\u001b[39m eval_env\u001b[39m.\u001b[39;49mstep(action)\n\u001b[1;32m     27\u001b[0m \u001b[39m# Close the video recorder\u001b[39;00m\n\u001b[1;32m     28\u001b[0m eval_env\u001b[39m.\u001b[39mclose()\n",
      "File \u001b[0;32m~/.pyenv/versions/3.11.4/envs/sb3/lib/python3.11/site-packages/stable_baselines3/common/vec_env/base_vec_env.py:188\u001b[0m, in \u001b[0;36mVecEnv.step\u001b[0;34m(self, actions)\u001b[0m\n\u001b[1;32m    181\u001b[0m \u001b[39m\u001b[39m\u001b[39m\"\"\"\u001b[39;00m\n\u001b[1;32m    182\u001b[0m \u001b[39mStep the environments with the given action\u001b[39;00m\n\u001b[1;32m    183\u001b[0m \n\u001b[1;32m    184\u001b[0m \u001b[39m:param actions: the action\u001b[39;00m\n\u001b[1;32m    185\u001b[0m \u001b[39m:return: observation, reward, done, information\u001b[39;00m\n\u001b[1;32m    186\u001b[0m \u001b[39m\"\"\"\u001b[39;00m\n\u001b[1;32m    187\u001b[0m \u001b[39mself\u001b[39m\u001b[39m.\u001b[39mstep_async(actions)\n\u001b[0;32m--> 188\u001b[0m \u001b[39mreturn\u001b[39;00m \u001b[39mself\u001b[39;49m\u001b[39m.\u001b[39;49mstep_wait()\n",
      "File \u001b[0;32m~/.pyenv/versions/3.11.4/envs/sb3/lib/python3.11/site-packages/stable_baselines3/common/vec_env/vec_video_recorder.py:96\u001b[0m, in \u001b[0;36mVecVideoRecorder.step_wait\u001b[0;34m(self)\u001b[0m\n\u001b[1;32m     94\u001b[0m     \u001b[39mif\u001b[39;00m \u001b[39mself\u001b[39m\u001b[39m.\u001b[39mrecorded_frames \u001b[39m>\u001b[39m \u001b[39mself\u001b[39m\u001b[39m.\u001b[39mvideo_length:\n\u001b[1;32m     95\u001b[0m         \u001b[39mprint\u001b[39m(\u001b[39mf\u001b[39m\u001b[39m\"\u001b[39m\u001b[39mSaving video to \u001b[39m\u001b[39m{\u001b[39;00m\u001b[39mself\u001b[39m\u001b[39m.\u001b[39mvideo_recorder\u001b[39m.\u001b[39mpath\u001b[39m}\u001b[39;00m\u001b[39m\"\u001b[39m)\n\u001b[0;32m---> 96\u001b[0m         \u001b[39mself\u001b[39;49m\u001b[39m.\u001b[39;49mclose_video_recorder()\n\u001b[1;32m     97\u001b[0m \u001b[39melif\u001b[39;00m \u001b[39mself\u001b[39m\u001b[39m.\u001b[39m_video_enabled():\n\u001b[1;32m     98\u001b[0m     \u001b[39mself\u001b[39m\u001b[39m.\u001b[39mstart_video_recorder()\n",
      "File \u001b[0;32m~/.pyenv/versions/3.11.4/envs/sb3/lib/python3.11/site-packages/stable_baselines3/common/vec_env/vec_video_recorder.py:104\u001b[0m, in \u001b[0;36mVecVideoRecorder.close_video_recorder\u001b[0;34m(self)\u001b[0m\n\u001b[1;32m    102\u001b[0m \u001b[39mdef\u001b[39;00m \u001b[39mclose_video_recorder\u001b[39m(\u001b[39mself\u001b[39m) \u001b[39m-\u001b[39m\u001b[39m>\u001b[39m \u001b[39mNone\u001b[39;00m:\n\u001b[1;32m    103\u001b[0m     \u001b[39mif\u001b[39;00m \u001b[39mself\u001b[39m\u001b[39m.\u001b[39mrecording:\n\u001b[0;32m--> 104\u001b[0m         \u001b[39mself\u001b[39;49m\u001b[39m.\u001b[39;49mvideo_recorder\u001b[39m.\u001b[39;49mclose()\n\u001b[1;32m    105\u001b[0m     \u001b[39mself\u001b[39m\u001b[39m.\u001b[39mrecording \u001b[39m=\u001b[39m \u001b[39mFalse\u001b[39;00m\n\u001b[1;32m    106\u001b[0m     \u001b[39mself\u001b[39m\u001b[39m.\u001b[39mrecorded_frames \u001b[39m=\u001b[39m \u001b[39m1\u001b[39m\n",
      "File \u001b[0;32m~/.pyenv/versions/3.11.4/envs/sb3/lib/python3.11/site-packages/gymnasium/wrappers/monitoring/video_recorder.py:161\u001b[0m, in \u001b[0;36mVideoRecorder.close\u001b[0;34m(self)\u001b[0m\n\u001b[1;32m    159\u001b[0m     clip \u001b[39m=\u001b[39m ImageSequenceClip(\u001b[39mself\u001b[39m\u001b[39m.\u001b[39mrecorded_frames, fps\u001b[39m=\u001b[39m\u001b[39mself\u001b[39m\u001b[39m.\u001b[39mframes_per_sec)\n\u001b[1;32m    160\u001b[0m     moviepy_logger \u001b[39m=\u001b[39m \u001b[39mNone\u001b[39;00m \u001b[39mif\u001b[39;00m \u001b[39mself\u001b[39m\u001b[39m.\u001b[39mdisable_logger \u001b[39melse\u001b[39;00m \u001b[39m\"\u001b[39m\u001b[39mbar\u001b[39m\u001b[39m\"\u001b[39m\n\u001b[0;32m--> 161\u001b[0m     clip\u001b[39m.\u001b[39;49mwrite_videofile(\u001b[39mself\u001b[39;49m\u001b[39m.\u001b[39;49mpath, logger\u001b[39m=\u001b[39;49mmoviepy_logger)\n\u001b[1;32m    162\u001b[0m \u001b[39melse\u001b[39;00m:\n\u001b[1;32m    163\u001b[0m     \u001b[39m# No frames captured. Set metadata.\u001b[39;00m\n\u001b[1;32m    164\u001b[0m     \u001b[39mif\u001b[39;00m \u001b[39mself\u001b[39m\u001b[39m.\u001b[39mmetadata \u001b[39mis\u001b[39;00m \u001b[39mNone\u001b[39;00m:\n",
      "File \u001b[0;32m~/.pyenv/versions/3.11.4/envs/sb3/lib/python3.11/site-packages/decorator.py:232\u001b[0m, in \u001b[0;36mfun\u001b[0;34m(*args, **kw)\u001b[0m\n\u001b[1;32m    230\u001b[0m evaldict \u001b[39m=\u001b[39m \u001b[39mdict\u001b[39m(_call_\u001b[39m=\u001b[39mcaller, _func_\u001b[39m=\u001b[39mfunc)\n\u001b[1;32m    231\u001b[0m es \u001b[39m=\u001b[39m \u001b[39m'\u001b[39m\u001b[39m'\u001b[39m\n\u001b[0;32m--> 232\u001b[0m \u001b[39mfor\u001b[39;00m i, extra \u001b[39min\u001b[39;00m \u001b[39menumerate\u001b[39m(extras):\n\u001b[1;32m    233\u001b[0m     ex \u001b[39m=\u001b[39m \u001b[39m'\u001b[39m\u001b[39m_e\u001b[39m\u001b[39m%d\u001b[39;00m\u001b[39m_\u001b[39m\u001b[39m'\u001b[39m \u001b[39m%\u001b[39m i\n\u001b[1;32m    234\u001b[0m     evaldict[ex] \u001b[39m=\u001b[39m extra\n",
      "File \u001b[0;32m~/.pyenv/versions/3.11.4/envs/sb3/lib/python3.11/site-packages/moviepy/decorators.py:54\u001b[0m, in \u001b[0;36mrequires_duration\u001b[0;34m(f, clip, *a, **k)\u001b[0m\n\u001b[1;32m     52\u001b[0m     \u001b[39mraise\u001b[39;00m \u001b[39mValueError\u001b[39;00m(\u001b[39m\"\u001b[39m\u001b[39mAttribute \u001b[39m\u001b[39m'\u001b[39m\u001b[39mduration\u001b[39m\u001b[39m'\u001b[39m\u001b[39m not set\u001b[39m\u001b[39m\"\u001b[39m)\n\u001b[1;32m     53\u001b[0m \u001b[39melse\u001b[39;00m:\n\u001b[0;32m---> 54\u001b[0m     \u001b[39mreturn\u001b[39;00m f(clip, \u001b[39m*\u001b[39;49ma, \u001b[39m*\u001b[39;49m\u001b[39m*\u001b[39;49mk)\n",
      "File \u001b[0;32m~/.pyenv/versions/3.11.4/envs/sb3/lib/python3.11/site-packages/decorator.py:232\u001b[0m, in \u001b[0;36mfun\u001b[0;34m(*args, **kw)\u001b[0m\n\u001b[1;32m    230\u001b[0m evaldict \u001b[39m=\u001b[39m \u001b[39mdict\u001b[39m(_call_\u001b[39m=\u001b[39mcaller, _func_\u001b[39m=\u001b[39mfunc)\n\u001b[1;32m    231\u001b[0m es \u001b[39m=\u001b[39m \u001b[39m'\u001b[39m\u001b[39m'\u001b[39m\n\u001b[0;32m--> 232\u001b[0m \u001b[39mfor\u001b[39;00m i, extra \u001b[39min\u001b[39;00m \u001b[39menumerate\u001b[39m(extras):\n\u001b[1;32m    233\u001b[0m     ex \u001b[39m=\u001b[39m \u001b[39m'\u001b[39m\u001b[39m_e\u001b[39m\u001b[39m%d\u001b[39;00m\u001b[39m_\u001b[39m\u001b[39m'\u001b[39m \u001b[39m%\u001b[39m i\n\u001b[1;32m    234\u001b[0m     evaldict[ex] \u001b[39m=\u001b[39m extra\n",
      "File \u001b[0;32m~/.pyenv/versions/3.11.4/envs/sb3/lib/python3.11/site-packages/moviepy/decorators.py:135\u001b[0m, in \u001b[0;36muse_clip_fps_by_default\u001b[0;34m(f, clip, *a, **k)\u001b[0m\n\u001b[1;32m    130\u001b[0m new_a \u001b[39m=\u001b[39m [fun(arg) \u001b[39mif\u001b[39;00m (name\u001b[39m==\u001b[39m\u001b[39m'\u001b[39m\u001b[39mfps\u001b[39m\u001b[39m'\u001b[39m) \u001b[39melse\u001b[39;00m arg\n\u001b[1;32m    131\u001b[0m          \u001b[39mfor\u001b[39;00m (arg, name) \u001b[39min\u001b[39;00m \u001b[39mzip\u001b[39m(a, names)]\n\u001b[1;32m    132\u001b[0m new_kw \u001b[39m=\u001b[39m {k: fun(v) \u001b[39mif\u001b[39;00m k\u001b[39m==\u001b[39m\u001b[39m'\u001b[39m\u001b[39mfps\u001b[39m\u001b[39m'\u001b[39m \u001b[39melse\u001b[39;00m v\n\u001b[1;32m    133\u001b[0m          \u001b[39mfor\u001b[39;00m (k,v) \u001b[39min\u001b[39;00m k\u001b[39m.\u001b[39mitems()}\n\u001b[0;32m--> 135\u001b[0m \u001b[39mreturn\u001b[39;00m f(clip, \u001b[39m*\u001b[39;49mnew_a, \u001b[39m*\u001b[39;49m\u001b[39m*\u001b[39;49mnew_kw)\n",
      "File \u001b[0;32m~/.pyenv/versions/3.11.4/envs/sb3/lib/python3.11/site-packages/decorator.py:232\u001b[0m, in \u001b[0;36mfun\u001b[0;34m(*args, **kw)\u001b[0m\n\u001b[1;32m    230\u001b[0m evaldict \u001b[39m=\u001b[39m \u001b[39mdict\u001b[39m(_call_\u001b[39m=\u001b[39mcaller, _func_\u001b[39m=\u001b[39mfunc)\n\u001b[1;32m    231\u001b[0m es \u001b[39m=\u001b[39m \u001b[39m'\u001b[39m\u001b[39m'\u001b[39m\n\u001b[0;32m--> 232\u001b[0m \u001b[39mfor\u001b[39;00m i, extra \u001b[39min\u001b[39;00m \u001b[39menumerate\u001b[39m(extras):\n\u001b[1;32m    233\u001b[0m     ex \u001b[39m=\u001b[39m \u001b[39m'\u001b[39m\u001b[39m_e\u001b[39m\u001b[39m%d\u001b[39;00m\u001b[39m_\u001b[39m\u001b[39m'\u001b[39m \u001b[39m%\u001b[39m i\n\u001b[1;32m    234\u001b[0m     evaldict[ex] \u001b[39m=\u001b[39m extra\n",
      "File \u001b[0;32m~/.pyenv/versions/3.11.4/envs/sb3/lib/python3.11/site-packages/moviepy/decorators.py:22\u001b[0m, in \u001b[0;36mconvert_masks_to_RGB\u001b[0;34m(f, clip, *a, **k)\u001b[0m\n\u001b[1;32m     20\u001b[0m \u001b[39mif\u001b[39;00m clip\u001b[39m.\u001b[39mismask:\n\u001b[1;32m     21\u001b[0m     clip \u001b[39m=\u001b[39m clip\u001b[39m.\u001b[39mto_RGB()\n\u001b[0;32m---> 22\u001b[0m \u001b[39mreturn\u001b[39;00m f(clip, \u001b[39m*\u001b[39;49ma, \u001b[39m*\u001b[39;49m\u001b[39m*\u001b[39;49mk)\n",
      "File \u001b[0;32m~/.pyenv/versions/3.11.4/envs/sb3/lib/python3.11/site-packages/moviepy/video/VideoClip.py:300\u001b[0m, in \u001b[0;36mVideoClip.write_videofile\u001b[0;34m(self, filename, fps, codec, bitrate, audio, audio_fps, preset, audio_nbytes, audio_codec, audio_bitrate, audio_bufsize, temp_audiofile, rewrite_audio, remove_temp, write_logfile, verbose, threads, ffmpeg_params, logger)\u001b[0m\n\u001b[1;32m    292\u001b[0m \u001b[39mif\u001b[39;00m make_audio:\n\u001b[1;32m    293\u001b[0m     \u001b[39mself\u001b[39m\u001b[39m.\u001b[39maudio\u001b[39m.\u001b[39mwrite_audiofile(audiofile, audio_fps,\n\u001b[1;32m    294\u001b[0m                                audio_nbytes, audio_bufsize,\n\u001b[1;32m    295\u001b[0m                                audio_codec, bitrate\u001b[39m=\u001b[39maudio_bitrate,\n\u001b[1;32m    296\u001b[0m                                write_logfile\u001b[39m=\u001b[39mwrite_logfile,\n\u001b[1;32m    297\u001b[0m                                verbose\u001b[39m=\u001b[39mverbose,\n\u001b[1;32m    298\u001b[0m                                logger\u001b[39m=\u001b[39mlogger)\n\u001b[0;32m--> 300\u001b[0m ffmpeg_write_video(\u001b[39mself\u001b[39;49m, filename, fps, codec,\n\u001b[1;32m    301\u001b[0m                    bitrate\u001b[39m=\u001b[39;49mbitrate,\n\u001b[1;32m    302\u001b[0m                    preset\u001b[39m=\u001b[39;49mpreset,\n\u001b[1;32m    303\u001b[0m                    write_logfile\u001b[39m=\u001b[39;49mwrite_logfile,\n\u001b[1;32m    304\u001b[0m                    audiofile\u001b[39m=\u001b[39;49maudiofile,\n\u001b[1;32m    305\u001b[0m                    verbose\u001b[39m=\u001b[39;49mverbose, threads\u001b[39m=\u001b[39;49mthreads,\n\u001b[1;32m    306\u001b[0m                    ffmpeg_params\u001b[39m=\u001b[39;49mffmpeg_params,\n\u001b[1;32m    307\u001b[0m                    logger\u001b[39m=\u001b[39;49mlogger)\n\u001b[1;32m    309\u001b[0m \u001b[39mif\u001b[39;00m remove_temp \u001b[39mand\u001b[39;00m make_audio:\n\u001b[1;32m    310\u001b[0m     \u001b[39mif\u001b[39;00m os\u001b[39m.\u001b[39mpath\u001b[39m.\u001b[39mexists(audiofile):\n",
      "File \u001b[0;32m~/.pyenv/versions/3.11.4/envs/sb3/lib/python3.11/site-packages/moviepy/video/io/ffmpeg_writer.py:213\u001b[0m, in \u001b[0;36mffmpeg_write_video\u001b[0;34m(clip, filename, fps, codec, bitrate, preset, withmask, write_logfile, audiofile, verbose, threads, ffmpeg_params, logger)\u001b[0m\n\u001b[1;32m    211\u001b[0m     logfile \u001b[39m=\u001b[39m \u001b[39mNone\u001b[39;00m\n\u001b[1;32m    212\u001b[0m logger(message\u001b[39m=\u001b[39m\u001b[39m'\u001b[39m\u001b[39mMoviepy - Writing video \u001b[39m\u001b[39m%s\u001b[39;00m\u001b[39m\\n\u001b[39;00m\u001b[39m'\u001b[39m \u001b[39m%\u001b[39m filename)\n\u001b[0;32m--> 213\u001b[0m \u001b[39mwith\u001b[39;00m FFMPEG_VideoWriter(filename, clip\u001b[39m.\u001b[39;49msize, fps, codec \u001b[39m=\u001b[39;49m codec,\n\u001b[1;32m    214\u001b[0m                             preset\u001b[39m=\u001b[39;49mpreset, bitrate\u001b[39m=\u001b[39;49mbitrate, logfile\u001b[39m=\u001b[39;49mlogfile,\n\u001b[1;32m    215\u001b[0m                             audiofile\u001b[39m=\u001b[39;49maudiofile, threads\u001b[39m=\u001b[39;49mthreads,\n\u001b[1;32m    216\u001b[0m                             ffmpeg_params\u001b[39m=\u001b[39;49mffmpeg_params) \u001b[39mas\u001b[39;00m writer:\n\u001b[1;32m    218\u001b[0m     nframes \u001b[39m=\u001b[39m \u001b[39mint\u001b[39m(clip\u001b[39m.\u001b[39mduration\u001b[39m*\u001b[39mfps)\n\u001b[1;32m    220\u001b[0m     \u001b[39mfor\u001b[39;00m t,frame \u001b[39min\u001b[39;00m clip\u001b[39m.\u001b[39miter_frames(logger\u001b[39m=\u001b[39mlogger, with_times\u001b[39m=\u001b[39m\u001b[39mTrue\u001b[39;00m,\n\u001b[1;32m    221\u001b[0m                                     fps\u001b[39m=\u001b[39mfps, dtype\u001b[39m=\u001b[39m\u001b[39m\"\u001b[39m\u001b[39muint8\u001b[39m\u001b[39m\"\u001b[39m):\n",
      "File \u001b[0;32m~/.pyenv/versions/3.11.4/envs/sb3/lib/python3.11/site-packages/moviepy/video/io/ffmpeg_writer.py:88\u001b[0m, in \u001b[0;36mFFMPEG_VideoWriter.__init__\u001b[0;34m(self, filename, size, fps, codec, audiofile, preset, bitrate, withmask, logfile, threads, ffmpeg_params)\u001b[0m\n\u001b[1;32m     77\u001b[0m \u001b[39mself\u001b[39m\u001b[39m.\u001b[39mext \u001b[39m=\u001b[39m \u001b[39mself\u001b[39m\u001b[39m.\u001b[39mfilename\u001b[39m.\u001b[39msplit(\u001b[39m\"\u001b[39m\u001b[39m.\u001b[39m\u001b[39m\"\u001b[39m)[\u001b[39m-\u001b[39m\u001b[39m1\u001b[39m]\n\u001b[1;32m     79\u001b[0m \u001b[39m# order is important\u001b[39;00m\n\u001b[1;32m     80\u001b[0m cmd \u001b[39m=\u001b[39m [\n\u001b[1;32m     81\u001b[0m     get_setting(\u001b[39m\"\u001b[39m\u001b[39mFFMPEG_BINARY\u001b[39m\u001b[39m\"\u001b[39m),\n\u001b[1;32m     82\u001b[0m     \u001b[39m'\u001b[39m\u001b[39m-y\u001b[39m\u001b[39m'\u001b[39m,\n\u001b[1;32m     83\u001b[0m     \u001b[39m'\u001b[39m\u001b[39m-loglevel\u001b[39m\u001b[39m'\u001b[39m, \u001b[39m'\u001b[39m\u001b[39merror\u001b[39m\u001b[39m'\u001b[39m \u001b[39mif\u001b[39;00m logfile \u001b[39m==\u001b[39m sp\u001b[39m.\u001b[39mPIPE \u001b[39melse\u001b[39;00m \u001b[39m'\u001b[39m\u001b[39minfo\u001b[39m\u001b[39m'\u001b[39m,\n\u001b[1;32m     84\u001b[0m     \u001b[39m'\u001b[39m\u001b[39m-f\u001b[39m\u001b[39m'\u001b[39m, \u001b[39m'\u001b[39m\u001b[39mrawvideo\u001b[39m\u001b[39m'\u001b[39m,\n\u001b[1;32m     85\u001b[0m     \u001b[39m'\u001b[39m\u001b[39m-vcodec\u001b[39m\u001b[39m'\u001b[39m, \u001b[39m'\u001b[39m\u001b[39mrawvideo\u001b[39m\u001b[39m'\u001b[39m,\n\u001b[1;32m     86\u001b[0m     \u001b[39m'\u001b[39m\u001b[39m-s\u001b[39m\u001b[39m'\u001b[39m, \u001b[39m'\u001b[39m\u001b[39m%d\u001b[39;00m\u001b[39mx\u001b[39m\u001b[39m%d\u001b[39;00m\u001b[39m'\u001b[39m \u001b[39m%\u001b[39m (size[\u001b[39m0\u001b[39m], size[\u001b[39m1\u001b[39m]),\n\u001b[1;32m     87\u001b[0m     \u001b[39m'\u001b[39m\u001b[39m-pix_fmt\u001b[39m\u001b[39m'\u001b[39m, \u001b[39m'\u001b[39m\u001b[39mrgba\u001b[39m\u001b[39m'\u001b[39m \u001b[39mif\u001b[39;00m withmask \u001b[39melse\u001b[39;00m \u001b[39m'\u001b[39m\u001b[39mrgb24\u001b[39m\u001b[39m'\u001b[39m,\n\u001b[0;32m---> 88\u001b[0m     \u001b[39m'\u001b[39m\u001b[39m-r\u001b[39m\u001b[39m'\u001b[39m, \u001b[39m'\u001b[39;49m\u001b[39m%.02f\u001b[39;49;00m\u001b[39m'\u001b[39;49m \u001b[39m%\u001b[39;49m fps,\n\u001b[1;32m     89\u001b[0m     \u001b[39m'\u001b[39m\u001b[39m-an\u001b[39m\u001b[39m'\u001b[39m, \u001b[39m'\u001b[39m\u001b[39m-i\u001b[39m\u001b[39m'\u001b[39m, \u001b[39m'\u001b[39m\u001b[39m-\u001b[39m\u001b[39m'\u001b[39m\n\u001b[1;32m     90\u001b[0m ]\n\u001b[1;32m     91\u001b[0m \u001b[39mif\u001b[39;00m audiofile \u001b[39mis\u001b[39;00m \u001b[39mnot\u001b[39;00m \u001b[39mNone\u001b[39;00m:\n\u001b[1;32m     92\u001b[0m     cmd\u001b[39m.\u001b[39mextend([\n\u001b[1;32m     93\u001b[0m         \u001b[39m'\u001b[39m\u001b[39m-i\u001b[39m\u001b[39m'\u001b[39m, audiofile,\n\u001b[1;32m     94\u001b[0m         \u001b[39m'\u001b[39m\u001b[39m-acodec\u001b[39m\u001b[39m'\u001b[39m, \u001b[39m'\u001b[39m\u001b[39mcopy\u001b[39m\u001b[39m'\u001b[39m\n\u001b[1;32m     95\u001b[0m     ])\n",
      "\u001b[0;31mTypeError\u001b[0m: must be real number, not NoneType"
     ]
    }
   ],
   "source": [
    "record_video(\"CartPole-v1\", model, video_length=500, prefix=\"ppo-cartpole\")"
   ]
  },
  {
   "cell_type": "code",
   "execution_count": null,
   "metadata": {},
   "outputs": [],
   "source": []
  }
 ],
 "metadata": {
  "kernelspec": {
   "display_name": "sb3",
   "language": "python",
   "name": "python3"
  },
  "language_info": {
   "codemirror_mode": {
    "name": "ipython",
    "version": 3
   },
   "file_extension": ".py",
   "mimetype": "text/x-python",
   "name": "python",
   "nbconvert_exporter": "python",
   "pygments_lexer": "ipython3",
   "version": "3.11.4"
  },
  "orig_nbformat": 4
 },
 "nbformat": 4,
 "nbformat_minor": 2
}
