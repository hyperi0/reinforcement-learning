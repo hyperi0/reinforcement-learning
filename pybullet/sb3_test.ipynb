{
 "cells": [
  {
   "cell_type": "code",
   "execution_count": 1,
   "metadata": {},
   "outputs": [],
   "source": [
    "import os\n",
    "\n",
    "# Patch and register pybullet envs\n",
    "import rl_zoo3.gym_patches\n",
    "import pybullet_envs\n",
    "\n",
    "from stable_baselines3 import PPO\n",
    "from stable_baselines3.common.env_util import make_vec_env\n",
    "from stable_baselines3.common.vec_env import VecNormalize, DummyVecEnv"
   ]
  },
  {
   "cell_type": "code",
   "execution_count": null,
   "metadata": {},
   "outputs": [],
   "source": [
    "# env = make_vec_env(\n",
    "#     \"HalfCheetahBulletEnv-v0\",\n",
    "#     env_kwargs=dict(apply_api_compatibility=True),\n",
    "#     n_envs=1,\n",
    "# )\n",
    "\n",
    "# Pybullet doesn't support Gymnasium yet\n",
    "import gym as gym26\n",
    "env = gym26.make(\"HalfCheetahBulletEnv-v0\", apply_api_compatibility=True)\n",
    "\n",
    "env = DummyVecEnv([lambda: env])\n",
    "env = VecNormalize(env, norm_obs=True, norm_reward=True, clip_obs=10.0)"
   ]
  }
 ],
 "metadata": {
  "kernelspec": {
   "display_name": "pybullet",
   "language": "python",
   "name": "python3"
  },
  "language_info": {
   "codemirror_mode": {
    "name": "ipython",
    "version": 3
   },
   "file_extension": ".py",
   "mimetype": "text/x-python",
   "name": "python",
   "nbconvert_exporter": "python",
   "pygments_lexer": "ipython3",
   "version": "3.10.14"
  }
 },
 "nbformat": 4,
 "nbformat_minor": 2
}
